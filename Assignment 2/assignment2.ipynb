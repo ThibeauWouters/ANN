{
 "cells": [
  {
   "cell_type": "markdown",
   "id": "1a7e04da",
   "metadata": {},
   "source": [
    "%%latex \\tableofcontents"
   ]
  },
  {
   "cell_type": "code",
   "execution_count": 47,
   "id": "287e0a7b",
   "metadata": {},
   "outputs": [
    {
     "name": "stdout",
     "output_type": "stream",
     "text": [
      "The autoreload extension is already loaded. To reload it, use:\n",
      "  %reload_ext autoreload\n"
     ]
    }
   ],
   "source": [
    "import numpy as np\n",
    "import matplotlib.pyplot as plt\n",
    "plt.rcParams['figure.figsize'] = (12,5)\n",
    "%matplotlib qt\n",
    "import os\n",
    "import torch.optim\n",
    "import scipy.io\n",
    "from torch import nn\n",
    "from torch.utils.data import Dataset, DataLoader\n",
    "master_dir = os.getcwd()\n",
    "# For loading my own script:\n",
    "%load_ext autoreload\n",
    "%autoreload 2\n",
    "import assignment2"
   ]
  },
  {
   "cell_type": "markdown",
   "id": "4637815b",
   "metadata": {},
   "source": [
    "# Define architecture to be used"
   ]
  },
  {
   "cell_type": "code",
   "execution_count": 48,
   "id": "d39742c5",
   "metadata": {},
   "outputs": [],
   "source": [
    "def satlins(x):\n",
    "    return np.where(abs(x) > 1, np.sign(x), x)"
   ]
  },
  {
   "cell_type": "code",
   "execution_count": 49,
   "id": "98e0db1b",
   "metadata": {},
   "outputs": [],
   "source": [
    "class HopfieldNetwork:\n",
    "\n",
    "    def __init__(self, attractors, f = satlins):\n",
    "        # Attractors have shape N x Q\n",
    "        n, q = np.shape(attractors)\n",
    "        # Save the variables\n",
    "        self.q = q\n",
    "        self.n = n\n",
    "        # Store the patterns as memory\n",
    "        self.memory = attractors\n",
    "        # Initialize a random starting point\n",
    "        self.state = np.random.randint(-2, 2, (self.n, 1))\n",
    "        # Initialize the weights and biases\n",
    "        self.weights = np.zeros((n, n))\n",
    "        self.bias = np.zeros((n,))\n",
    "        \n",
    "        # Train the network as part of initialization\n",
    "        self.train()\n",
    "        self.f = f\n",
    "\n",
    "    def train(self):\n",
    "        # Initialize empty weights matrix\n",
    "        self.weights = np.empty([self.n, self.n])\n",
    "        # Train the network with Hebbian learning\n",
    "        for i in range(self.n):\n",
    "            for j in range(self.n):\n",
    "                self.weights[i, j] = np.sum([att[i]*att[j] for att in np.transpose(self.memory)])\n",
    "        # Finally, rescale with 1/N\n",
    "        self.weights = (1 / self.memory.shape[0]) * self.weights\n",
    "\n",
    "    def get_trajectory(self, nb_of_updates, which=\"sync\"):\n",
    "        # Initialize empty array to save history    \n",
    "        history = []\n",
    "        \n",
    "        for i in range(nb_of_updates):\n",
    "            # Save current state\n",
    "            history.append(np.copy(self.state))\n",
    "            # Compute activation depending on which update rule used\n",
    "            if which == \"sync\":\n",
    "                # Do matrix multiplication\n",
    "                activation = np.matmul(self.weights, self.state) + self.bias\n",
    "            elif which == \"async\":\n",
    "                # Choose random index and change that neuron's index value\n",
    "                rand_index = np.random.randint(0, self.n)\n",
    "                new_value = np.dot(self.weights[rand_index, :], self.state) + self.bias[rand_index]\n",
    "                # Activation is a copy of state, with one index replaced by new value:\n",
    "                activation[rand_index] = new_value\n",
    "                activation\n",
    "            \n",
    "            # Apply activation function\n",
    "            self.state = self.f(activation)\n",
    "            \n",
    "            # Check convergence: fixed point condition verified:\n",
    "            if np.array_equal(self.state, history[-1]):\n",
    "                break\n",
    "        return history\n"
   ]
  },
  {
   "cell_type": "markdown",
   "id": "28e49a0e",
   "metadata": {},
   "source": [
    "# 2D Hopfield network"
   ]
  },
  {
   "cell_type": "code",
   "execution_count": 50,
   "id": "f11d03ac",
   "metadata": {},
   "outputs": [
    {
     "data": {
      "text/plain": [
       "array([[1.5, 0.5],\n",
       "       [0.5, 1.5]])"
      ]
     },
     "execution_count": 50,
     "metadata": {},
     "output_type": "execute_result"
    }
   ],
   "source": [
    "patterns = [[1, 1], [-1, -1], [1, -1]]\n",
    "patterns = np.transpose(patterns)\n",
    "# Create new HopfieldNetwork\n",
    "hop = HopfieldNetwork(patterns)\n",
    "hop.weights"
   ]
  },
  {
   "cell_type": "markdown",
   "id": "e03bb066",
   "metadata": {},
   "source": [
    "These weights are different from the ones we can get out of the Matlab Hopfield network. We will simply force the weights of our Hopfield network to give the same results as the ones in Matlab."
   ]
  },
  {
   "cell_type": "code",
   "execution_count": 51,
   "id": "a0d82fee",
   "metadata": {},
   "outputs": [],
   "source": [
    "# Override the weights with the ones we got from Matlab\n",
    "hop.weights = np.array([[1.16, 0], [0, 1.16]])"
   ]
  },
  {
   "cell_type": "code",
   "execution_count": 58,
   "id": "9f3a6bb4",
   "metadata": {},
   "outputs": [],
   "source": [
    "# Choose the state\n",
    "r = 0.1\n",
    "angles = np.arange(0, 2*np.pi, 0.1)\n",
    "# Plot hyperparameter:\n",
    "delta = 0.1\n",
    "\n",
    "\n",
    "for a in angles:\n",
    "    hop.state = np.array([r*np.cos(a), r*np.sin(a)])\n",
    "    history = hop.get_trajectory(1000)\n",
    "    x, y = np.transpose(history)\n",
    "    # Plot the trajectory\n",
    "    plt.plot(x, y, color='red', label='Trajectory')\n",
    "    \n",
    "# Make the plot beautiful\n",
    "plt.xlim(-1-delta, 1+delta)\n",
    "plt.ylim(-1-delta, 1+delta)\n",
    "plt.axvline(0, color=\"black\", alpha = 0.1)\n",
    "plt.axhline(0, color=\"black\", alpha = 0.1)\n",
    "for pattern in np.transpose(patterns):\n",
    "    plt.scatter(pattern[0], pattern[1], color=\"green\", label=\"Patterns\", zorder=100)\n",
    "plt.grid()\n",
    "plt.show()"
   ]
  },
  {
   "cell_type": "markdown",
   "id": "f3a1efb0",
   "metadata": {},
   "source": [
    "# 3D Hopfield network"
   ]
  },
  {
   "cell_type": "code",
   "execution_count": 59,
   "id": "e0ca5241",
   "metadata": {},
   "outputs": [],
   "source": [
    "from mpl_toolkits.mplot3d import Axes3D"
   ]
  },
  {
   "cell_type": "code",
   "execution_count": 60,
   "id": "582127d7",
   "metadata": {},
   "outputs": [
    {
     "data": {
      "text/plain": [
       "array([ 0.2849, -0.2849,  0.2849])"
      ]
     },
     "execution_count": 60,
     "metadata": {},
     "output_type": "execute_result"
    }
   ],
   "source": [
    "patterns = [[1, 1, 1], [-1, -1, 1], [1, -1, -1]]\n",
    "patterns = np.transpose(patterns)\n",
    "# Create new HopfieldNetwork\n",
    "hop = HopfieldNetwork(patterns)\n",
    "# We import the weights and biases from the Matlab files\n",
    "hop.weights = np.array([0.8489, 0.3129, -0.3129, 0.3129, 0.8489, 0.3129, -0.3129, 0.3129, 0.8489]).reshape(3, 3)\n",
    "hop.bias = np.array([0.2849, -0.2849, 0.2849]).reshape(3,)\n",
    "hop.bias"
   ]
  },
  {
   "cell_type": "code",
   "execution_count": 61,
   "id": "4a31ebd6",
   "metadata": {},
   "outputs": [
    {
     "name": "stdout",
     "output_type": "stream",
     "text": [
      "(3,)\n"
     ]
    }
   ],
   "source": [
    "print(np.shape(hop.bias))"
   ]
  },
  {
   "cell_type": "code",
   "execution_count": 63,
   "id": "0de030d3",
   "metadata": {},
   "outputs": [],
   "source": [
    "# Plot hyperparameter:\n",
    "delta = 0.1\n",
    "# Which values to check:\n",
    "n = 500\n",
    "starting_points = np.array([np.array([np.random.uniform(-1, 1), np.random.uniform(-1, 1), np.random.uniform(-1, 1)]) for i in range(n)])\n",
    "\n",
    "# Define the 3D plot figure\n",
    "fig = plt.figure(figsize = (20, 10))\n",
    "ax = fig.add_subplot(111, projection='3d')\n",
    "\n",
    "final_points = []\n",
    "\n",
    "nb_iterations = 50\n",
    "\n",
    "for start in starting_points:\n",
    "    # Make a state\n",
    "    hop.state = start\n",
    "    # Get the trajectory\n",
    "    history = hop.get_trajectory(nb_iterations)\n",
    "    # Plot their values\n",
    "    x_values, y_values, z_values = np.transpose(history)\n",
    "    ax.plot(x_values[nb_iterations//2:], y_values[nb_iterations//2:], z_values[nb_iterations//2:], c='r')\n",
    "    ax.scatter(x_values[-1], y_values[-1], z_values[-1], c='r')\n",
    "    \n",
    "# Set the labels for the axes\n",
    "ax.set_xlabel('X')\n",
    "ax.set_ylabel('Y')\n",
    "ax.set_zlabel('Z')\n",
    "\n",
    "ax.set_xlim(-1-delta, 1+delta)\n",
    "ax.set_ylim(-1-delta, 1+delta)\n",
    "ax.set_zlim(-1-delta, 1+delta)\n",
    "\n",
    "# plt.axvline(0, color=\"black\")\n",
    "# plt.axhline(0, color=\"black\")\n",
    "for pattern in np.transpose(patterns):\n",
    "    ax.scatter(pattern[0], pattern[1], pattern[1], color=\"black\", label=\"Patterns\", marker=\"x\")\n",
    "# plt.show()"
   ]
  },
  {
   "cell_type": "code",
   "execution_count": null,
   "id": "98f41426",
   "metadata": {},
   "outputs": [],
   "source": []
  }
 ],
 "metadata": {
  "kernelspec": {
   "display_name": "Python 3 (ipykernel)",
   "language": "python",
   "name": "python3"
  },
  "language_info": {
   "codemirror_mode": {
    "name": "ipython",
    "version": 3
   },
   "file_extension": ".py",
   "mimetype": "text/x-python",
   "name": "python",
   "nbconvert_exporter": "python",
   "pygments_lexer": "ipython3",
   "version": "3.9.12"
  },
  "latex_envs": {
   "LaTeX_envs_menu_present": true,
   "autoclose": false,
   "autocomplete": true,
   "bibliofile": "biblio.bib",
   "cite_by": "apalike",
   "current_citInitial": 1,
   "eqLabelWithNumbers": true,
   "eqNumInitial": 1,
   "hotkeys": {
    "equation": "Ctrl-E",
    "itemize": "Ctrl-I"
   },
   "labels_anchors": false,
   "latex_user_defs": false,
   "report_style_numbering": false,
   "user_envs_cfg": false
  },
  "toc": {
   "base_numbering": 1,
   "nav_menu": {},
   "number_sections": true,
   "sideBar": true,
   "skip_h1_title": false,
   "title_cell": "Table of Contents",
   "title_sidebar": "Contents",
   "toc_cell": false,
   "toc_position": {},
   "toc_section_display": true,
   "toc_window_display": false
  }
 },
 "nbformat": 4,
 "nbformat_minor": 5
}
